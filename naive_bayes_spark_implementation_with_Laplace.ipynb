{
 "cells": [
  {
   "cell_type": "markdown",
   "metadata": {},
   "source": [
    "### Note:\n",
    "#### All the running time recorded are for reference only. In our case, the total number of samples for training and testing are 36000 and 4000.\n",
    "#### We observed that the running time for data loading and sampling are relatively constant (< 1 min). \n",
    "#### The running time  for training and testing phases would slightly vary depending on the sample size. "
   ]
  },
  {
   "cell_type": "code",
   "execution_count": 2,
   "metadata": {},
   "outputs": [
    {
     "name": "stdout",
     "output_type": "stream",
     "text": [
      "env: PYTHONHASHSEED=0\n",
      "Collecting nltk\n",
      "Collecting six (from nltk)\n",
      "  Using cached https://files.pythonhosted.org/packages/65/26/32b8464df2a97e6dd1b656ed26b2c194606c16fe163c695a992b36c11cdf/six-1.13.0-py2.py3-none-any.whl\n",
      "Installing collected packages: six, nltk\n",
      "Successfully installed nltk-3.4.5 six-1.13.0\n"
     ]
    }
   ],
   "source": [
    "%env PYTHONHASHSEED=0 \n",
    "!pip3 install nltk"
   ]
  },
  {
   "cell_type": "code",
   "execution_count": 10,
   "metadata": {},
   "outputs": [],
   "source": [
    "import sys\n",
    "sys.path.append('/usr/local/share/jupyter/kernels/python3')"
   ]
  },
  {
   "cell_type": "code",
   "execution_count": 1,
   "metadata": {},
   "outputs": [
    {
     "name": "stderr",
     "output_type": "stream",
     "text": [
      "[nltk_data] Downloading package wordnet to /u6/b6xia/nltk_data...\n",
      "[nltk_data]   Package wordnet is already up-to-date!\n"
     ]
    },
    {
     "data": {
      "text/plain": [
       "True"
      ]
     },
     "execution_count": 1,
     "metadata": {},
     "output_type": "execute_result"
    }
   ],
   "source": [
    "import nltk\n",
    "nltk.download('wordnet')"
   ]
  },
  {
   "cell_type": "code",
   "execution_count": 2,
   "metadata": {},
   "outputs": [],
   "source": [
    "import findspark\n",
    "findspark.init(\"/u/cs451/packages/spark\")\n",
    "from time import perf_counter"
   ]
  },
  {
   "cell_type": "markdown",
   "metadata": {},
   "source": [
    "### Spark Session Configuration and Data Loading (~ 32 sec)"
   ]
  },
  {
   "cell_type": "code",
   "execution_count": 3,
   "metadata": {},
   "outputs": [],
   "source": [
    "from pyspark.sql import SparkSession\n",
    "import random\n",
    "\n",
    "spark = SparkSession.builder.appName(\"YourTest\").master(\"local[4]\").config('spark.ui.port', random.randrange(4000,5000)).getOrCreate()\n"
   ]
  },
  {
   "cell_type": "code",
   "execution_count": 4,
   "metadata": {},
   "outputs": [
    {
     "name": "stdout",
     "output_type": "stream",
     "text": [
      "Loading Dataset...\n",
      "Finished in 33.94 sec\n"
     ]
    }
   ],
   "source": [
    "start = perf_counter()\n",
    "print('Loading Dataset...')\n",
    "review = spark.read.json(\"/u/cs451/yelp/review.json\")\n",
    "elapsed_time = perf_counter() - start\n",
    "print(f'Finished in {elapsed_time:.2f} sec')"
   ]
  },
  {
   "cell_type": "code",
   "execution_count": 5,
   "metadata": {},
   "outputs": [
    {
     "data": {
      "text/plain": [
       "6685900"
      ]
     },
     "execution_count": 5,
     "metadata": {},
     "output_type": "execute_result"
    }
   ],
   "source": [
    "# total number of reviews\n",
    "review.count() "
   ]
  },
  {
   "cell_type": "code",
   "execution_count": 14,
   "metadata": {},
   "outputs": [
    {
     "name": "stdout",
     "output_type": "stream",
     "text": [
      "+--------------------+----+-------------------+-----+--------------------+-----+--------------------+------+--------------------+\n",
      "|         business_id|cool|               date|funny|           review_id|stars|                text|useful|             user_id|\n",
      "+--------------------+----+-------------------+-----+--------------------+-----+--------------------+------+--------------------+\n",
      "|ujmEBvifdJM6h6RLv...|   0|2013-05-07 04:34:36|    1|Q1sbwvVQXV2734tPg...|    1|Total bill for th...|     6|hG7b0MtEbXx5QzbzE...|\n",
      "|NZnhc2sEQy3RmzKTZ...|   0|2017-01-14 21:30:33|    0|GJXCdrto3ASJOqKeV...|    5|I *adore* Travis ...|     0|yXQM5uF2jS6es16SJ...|\n",
      "|WTqjgwHlXbSFevF32...|   0|2016-11-09 20:09:03|    0|2TzJjDVDEuAW6MR5V...|    5|I have to say tha...|     3|n6-Gk65cPZL6Uz8qR...|\n",
      "|ikCg8xy5JIg_NGPx-...|   0|2018-01-09 20:56:38|    0|yi0R0Ugj_xUx_Nek0...|    5|Went in for a lun...|     0|dacAIZ6fTM6mqwW5u...|\n",
      "|b1b1eb3uo-w561D0Z...|   0|2018-01-30 23:07:38|    0|11a8sVPMUFtaC7_AB...|    1|Today was my seco...|     7|ssoyf2_x0EQMed6fg...|\n",
      "|eU_713ec6fTGNO4Be...|   0|2013-01-20 13:25:59|    0|fdiNeiN_hoCxCMy2w...|    4|I'll be the first...|     0|w31MKYsNFMrjhWxxA...|\n",
      "|3fw2X5bZYeW9xCz_z...|   5|2016-05-07 01:21:02|    4|G7XHMxG0bx9oBJNEC...|    3|Tracy dessert had...|     5|jlu4CztcSxrKx56ba...|\n",
      "|zvO-PJCpNk4fgAVUn...|   1|2010-10-05 19:12:35|    1|8e9HxxLjjqc9ez5ez...|    1|This place has go...|     3|d6xvYpyzcfbF_AZ8v...|\n",
      "|b2jN2mm9Wf3RcrZCg...|   0|2015-01-18 14:04:18|    0|qrffudO73zsslZbe8...|    2|I was really look...|     1|sG_h0dIzTKWa3Q6fm...|\n",
      "|oxwGyA17NL6c5t1Et...|   1|2012-02-29 21:52:43|    0|RS_GTIT6836bCaPy6...|    3|It's a giant Best...|     1|nMeCE5-xsdleyxYuN...|\n",
      "|8mIrX_LrOnAqWsB5J...|   0|2011-11-30 02:11:15|    0|kbtscdyz6lvrtGjD1...|    4|Like walking back...|     0|FIk4lQQu1eTe2EpzQ...|\n",
      "|mRUVMJkUGxrByzMQ2...|   0|2017-12-15 23:27:08|    1|-I5umRTkhw15RqpKM...|    1|Walked in around ...|     0|-mA3-1mN4JIEkqOtd...|\n",
      "|FxLfqxdYPA6Z85PFK...|   0|2016-05-07 01:36:53|    0|Z7wgXp98wYB57QdRY...|    4|Wow. So surprised...|     0|GYNnVehQeXjty0xH7...|\n",
      "|LUN6swQYa4xJKaM_U...|   0|2018-04-27 20:25:26|    0|qlXw1JQ0UodW7qrmV...|    4|Michael from Red ...|     0|bAhqAPoWaZYcyYi7b...|\n",
      "|AakkkTuGZA2KBodKi...|   0|2012-07-16 00:37:14|    1|JVcjMhlavKKn3UIt9...|    1|I cannot believe ...|     1|TpyOT5E16YASd7EWj...|\n",
      "|YvrylyuWgbP90RgMq...|   0|2017-04-07 21:27:49|    0|svK3nBU7Rk8VfGorl...|    5|You can't really ...|     0|NJlxGtouq06hhC7sS...|\n",
      "|NyLYY8q1-H3hfsTwu...|   0|2015-01-03 22:47:34|    0|1wVA2-vQIuW_ClmXk...|    4|Great lunch today...|     0|86J5DwcFk4f4In1Vx...|\n",
      "|cHdJXLlKNWixBXpDw...|   1|2015-04-01 16:30:00|    7|6BnQwlxRn7ZuWdzni...|    3|I love chinese fo...|     1|JSrP-dUmLlwZiI7Dp...|\n",
      "|6lj2BJ4tJeu7db5as...|   0|2017-05-26 01:23:19|    0|rEITo90tpyKmEfNDp...|    5|We've been a huge...|     0|6Fz_nus_OG4gar721...|\n",
      "|y-Iw6dZflNix4BdwI...|   0|2014-06-27 21:19:23|    0|4bUyL7lzoWzDZaJET...|    3|Good selection of...|     0|_N7Ndn29bpll_961o...|\n",
      "+--------------------+----+-------------------+-----+--------------------+-----+--------------------+------+--------------------+\n",
      "only showing top 20 rows\n",
      "\n"
     ]
    }
   ],
   "source": [
    "review.show()"
   ]
  },
  {
   "cell_type": "code",
   "execution_count": 21,
   "metadata": {},
   "outputs": [
    {
     "name": "stdout",
     "output_type": "stream",
     "text": [
      "+-----+-------+\n",
      "|stars|  count|\n",
      "+-----+-------+\n",
      "|    1|1002159|\n",
      "|    2| 542394|\n",
      "|    3| 739280|\n",
      "|    4|1468985|\n",
      "|    5|2933082|\n",
      "+-----+-------+\n",
      "\n"
     ]
    }
   ],
   "source": [
    "review.groupBy(\"stars\").count().sort('stars',ascending=True).show()"
   ]
  },
  {
   "cell_type": "code",
   "execution_count": 13,
   "metadata": {},
   "outputs": [
    {
     "data": {
      "text/plain": [
       "40"
      ]
     },
     "execution_count": 13,
     "metadata": {},
     "output_type": "execute_result"
    }
   ],
   "source": [
    "review.rdd.getNumPartitions()"
   ]
  },
  {
   "cell_type": "code",
   "execution_count": 104,
   "metadata": {},
   "outputs": [
    {
     "data": {
      "text/plain": [
       "20"
      ]
     },
     "execution_count": 104,
     "metadata": {},
     "output_type": "execute_result"
    }
   ],
   "source": [
    "# change the number of partitions\n",
    "# review=review.coalesce(20)\n",
    "# review.rdd.getNumPartitions()"
   ]
  },
  {
   "cell_type": "markdown",
   "metadata": {},
   "source": [
    "### Data Cleaning and Sampling (~ 22 sec)\n",
    "\n",
    "#### Only two columns (stars and text) of interest are selected. Stars range from 1 to 5. In this project, Review comments with 1, 2 stars are regarded as  bad reviews, and comments with 5 stars are regarded as good reviews. num_samples_per_label is approximated number of samples for either good or bad comments after sampling the raw data.\n"
   ]
  },
  {
   "cell_type": "code",
   "execution_count": 18,
   "metadata": {},
   "outputs": [
    {
     "name": "stdout",
     "output_type": "stream",
     "text": [
      "Making Queries...\n",
      "+-----+--------+\n",
      "|stars|count(1)|\n",
      "+-----+--------+\n",
      "|    1|    3325|\n",
      "|    5|    4770|\n",
      "|    2|    1864|\n",
      "+-----+--------+\n",
      "\n",
      "Finished in 22.55 sec\n"
     ]
    }
   ],
   "source": [
    "from pyspark.sql.functions import count\n",
    "from pyspark.sql.types import IntegerType\n",
    "\n",
    "num_samples_per_label = 5000\n",
    "frac = num_samples_per_label * 3.33e-7\n",
    "\n",
    "review = review.withColumn('stars', review.stars.cast(IntegerType()))\n",
    "sampled = review.select(review.stars, review.text).sampleBy('stars', fractions={1:frac*2, 2:frac*2, 3:0, 4:0, 5:frac}).cache()\n",
    "start = perf_counter()\n",
    "print('Making Queries...')\n",
    "sampled.groupBy(sampled.stars).agg(count('*')).show()\n",
    "elapsed_time = perf_counter() - start\n",
    "print(f'Finished in {elapsed_time:.2f} sec')"
   ]
  },
  {
   "cell_type": "code",
   "execution_count": 19,
   "metadata": {},
   "outputs": [
    {
     "data": {
      "text/plain": [
       "9959"
      ]
     },
     "execution_count": 19,
     "metadata": {},
     "output_type": "execute_result"
    }
   ],
   "source": [
    "sampled.count()"
   ]
  },
  {
   "cell_type": "code",
   "execution_count": 35,
   "metadata": {},
   "outputs": [
    {
     "data": {
      "text/plain": [
       "40"
      ]
     },
     "execution_count": 35,
     "metadata": {},
     "output_type": "execute_result"
    }
   ],
   "source": [
    "sampled.rdd.getNumPartitions()"
   ]
  },
  {
   "cell_type": "markdown",
   "metadata": {},
   "source": [
    "### Define Functions for Text Parsing and Normalization.\n",
    "#### Tokenization: Remove empty spaces, punctuations and numbers. Convert the string into list of lowercase tokens.\n",
    "#### Stop Words Removal: Ignore frequent words that are deemed irrrelevent for sentiment analysis. (e.g. the, a)\n",
    "#### Lemmatization: Reduces the inflected words properly to its canonical form (e.g. tried -> try)"
   ]
  },
  {
   "cell_type": "code",
   "execution_count": 7,
   "metadata": {},
   "outputs": [],
   "source": [
    "import re\n",
    "from nltk.stem import WordNetLemmatizer\n",
    "\n",
    "lemmatizer = WordNetLemmatizer()\n",
    "\n",
    "stop_words = ['ourselves', 'hers', 'between', 'yourself', 'but', 'again', 'there', 'about', 'once', 'during', 'out', 'very', 'having', 'with', 'they', 'own', 'an', 'be', 'some', 'for', 'do', 'its', 'yours', 'such', 'into', 'of', 'most', 'itself', 'other', 'off', 'is', 's', 'am', 'or', 'who', 'as', 'from', 'him', 'each', 'the', 'themselves', 'until', 'below', 'are', 'we', 'these', 'your', 'his', 'through', 'don', 'nor', 'me', 'were', 'her', 'more', 'himself', 'this', 'down', 'should', 'our', 'their', 'while', 'above', 'both', 'up', 'to', 'ours', 'had', 'she', 'all', 'no', 'when', 'at', 'any', 'before', 'them', 'same', 'and', 'been', 'have', 'in', 'will', 'on', 'does', 'yourselves', 'then', 'that', 'because', 'what', 'over', 'why', 'so', 'can', 'did', 'not', 'now', 'under', 'he', 'you', 'herself', 'has', 'just', 'where', 'too', 'only', 'myself', 'which', 'those', 'i', 'after', 'few', 'whom', 't', 'being', 'if', 'theirs', 'my', 'against', 'a', 'by', 'doing', 'it', 'how', 'further', 'was', 'here', 'than']\n",
    "\n",
    "def normalize(text):\n",
    "    tokens = re.findall('[a-zA-Z\\']+', text)\n",
    "    tokens_without_stop_words = [lemmatizer.lemmatize(i.lower(), pos='v') for i in tokens if i.lower() not in stop_words]\n",
    "    return tokens_without_stop_words\n",
    "\n",
    "def parse_training_RDD(line):\n",
    "    stars, text = line\n",
    "    label = 'bad' if stars < 5 else 'good'\n",
    "    tokens_without_stop_words = normalize(text)\n",
    "    return list(zip(tokens_without_stop_words, [label] * len(tokens_without_stop_words)))"
   ]
  },
  {
   "cell_type": "markdown",
   "metadata": {},
   "source": [
    "### Data Preprocessing ( ~ 13 sec)\n",
    "#### Convert the Spark DataFrame to RDD.\n",
    "#### Split Dataset into Training and Testing with Ratio 9 : 1. \n",
    "#### Apply Text Parsing and Normalization on Training Set.\n",
    "#### Compute Single-Token Probability for both labels."
   ]
  },
  {
   "cell_type": "code",
   "execution_count": 25,
   "metadata": {},
   "outputs": [
    {
     "name": "stdout",
     "output_type": "stream",
     "text": [
      "Data Preprocessing...\n",
      "Finished in 10.49 sec\n"
     ]
    }
   ],
   "source": [
    "print('Data Preprocessing...')\n",
    "start = perf_counter()\n",
    "review_RDD = sampled.rdd.map(tuple)\n",
    "review_RDD_training, review_RDD_testing = review_RDD.randomSplit([9, 1], 17)\n",
    "token_RDD = review_RDD_training.flatMap(lambda e : parse_training_RDD(e)).cache()\n",
    "\n",
    "num_good_tokens = token_RDD.filter(lambda e : e[1] == 'good').count()\n",
    "num_bad_tokens = token_RDD.filter(lambda e : e[1] == 'bad').count()\n",
    "single_token_probs = {'good': (1 / (num_good_tokens)), 'bad': (1 / (num_bad_tokens))}\n",
    "elapsed_time = perf_counter() - start\n",
    "print(f'Finished in {elapsed_time:.2f} sec')"
   ]
  },
  {
   "cell_type": "markdown",
   "metadata": {},
   "source": [
    "### Training Phase (~ 12 sec)\n",
    "#### Generating Probability Lookup Table.\n",
    "#### Saving the  Trained Model to Directory: output_model."
   ]
  },
  {
   "cell_type": "code",
   "execution_count": 26,
   "metadata": {},
   "outputs": [
    {
     "name": "stdout",
     "output_type": "stream",
     "text": [
      "Generating Lookup Table...\n",
      "Deleting Previous Model...\n",
      "Saving Current Model to directory: 'models/naive_bayes_model'\n",
      "Finished in 21.29 sec\n"
     ]
    }
   ],
   "source": [
    "import shutil, os\n",
    "\n",
    "output_model='models/naive_bayes_model'\n",
    "\n",
    "print('Generating Lookup Table...')\n",
    "start = perf_counter()\n",
    "token_prob_RDD = token_RDD.map(lambda e : (e, single_token_probs['good'] if e[1] == 'good' else single_token_probs['bad'])) \\\n",
    "                 .reduceByKey(lambda p1, p2 : p1 + p2) \\\n",
    "                 .map(lambda e : (e[0][0], (e[0][1], e[1]))).cache()\n",
    "\n",
    "good_tokens = token_prob_RDD.filter(lambda e : e[1][0] == 'good').map(lambda e : e[0]).collect()\n",
    "bad_tokens = token_prob_RDD.filter(lambda e : e[1][0] == 'bad').map(lambda e : e[0]).collect()\n",
    "model_RDD = token_prob_RDD.groupByKey().mapValues(lambda e : list(e)).cache()\n",
    "\n",
    "if os.path.isdir(output_model):\n",
    "    print('Deleting Previous Model...')    \n",
    "    shutil.rmtree(output_model)\n",
    "print(f'Saving Current Model to directory: \\'{output_model}\\'')\n",
    "model_RDD.saveAsTextFile(output_model)\n",
    "model = model_RDD.collectAsMap()\n",
    "elapsed_time = perf_counter() - start\n",
    "print(f'Finished in {elapsed_time:.2f} sec')"
   ]
  },
  {
   "cell_type": "markdown",
   "metadata": {},
   "source": [
    "### Testing Phase (~ 6 sec)\n",
    "#### Note: Data are sampled so that each label has approximately same number of samples. Thus, the prior for each label is ignored."
   ]
  },
  {
   "cell_type": "code",
   "execution_count": 29,
   "metadata": {},
   "outputs": [
    {
     "name": "stdout",
     "output_type": "stream",
     "text": [
      "Making Predictions...\n",
      "Finished in 6.15 sec\n"
     ]
    }
   ],
   "source": [
    "from math import log\n",
    "\n",
    "def posterior(tokens, model):\n",
    "    posteriors = {}\n",
    "    num_absent_tokens = 0\n",
    "    for token in tokens:\n",
    "        if token not in model:\n",
    "            num_absent_tokens += 1\n",
    "            continue\n",
    "        probs = model[token]\n",
    "        if len(probs) == 1:\n",
    "            label, p = probs[0]\n",
    "            posteriors[label] = posteriors[label] + log(p) if label in posteriors else log(p)\n",
    "            missing_label = 'good' if label == 'bad' else 'bad'\n",
    "            missing_p = single_token_probs[missing_label]\n",
    "            posteriors[missing_label] = posteriors[missing_label] + log(missing_p) if missing_label in posteriors else log(missing_p)\n",
    "        else:\n",
    "            for prob in probs:\n",
    "                label, p = prob\n",
    "                posteriors[label] = posteriors[label] + log(p) if label in posteriors else log(p)\n",
    "\n",
    "    for label in ['good', 'bad']:\n",
    "        posteriors[label] = posteriors[label] + log(single_token_probs[label]) * num_absent_tokens if label in posteriors else log(single_token_probs[label])\n",
    "    return posteriors\n",
    "\n",
    "def predict(line, model):\n",
    "    stars, text = line\n",
    "    label = 'bad' if stars < 5 else 'good'\n",
    "    is_bad = 1 if label == 'bad' else 0\n",
    "    is_good = 1 - is_bad\n",
    "    tokens_without_stop_words = normalize(text)\n",
    "    posteriors = posterior(tokens_without_stop_words, model)\n",
    "    prediction = 'good' if posteriors['good'] > posteriors['bad'] else 'bad'\n",
    "    prob_good = posteriors['bad'] / (posteriors['good'] + posteriors['bad'])\n",
    "    prob_bad = 1 - prob_good\n",
    "    return is_good, is_bad, prob_good, prob_bad, label == prediction\n",
    "\n",
    "print('Making Predictions...')\n",
    "start = perf_counter()\n",
    "result_RDD = review_RDD_testing.map(lambda line : predict(line, model)).cache()\n",
    "num_testing_instance = result_RDD.count()\n",
    "elapsed_time = perf_counter() - start\n",
    "print(f'Finished in {elapsed_time:.2f} sec')"
   ]
  },
  {
   "cell_type": "markdown",
   "metadata": {},
   "source": [
    "### Evaluation Phase\n",
    "#### Computing Accuracy"
   ]
  },
  {
   "cell_type": "code",
   "execution_count": 30,
   "metadata": {},
   "outputs": [
    {
     "name": "stdout",
     "output_type": "stream",
     "text": [
      "The classification accuracy of 1021 testing samples: 90.60%\n"
     ]
    }
   ],
   "source": [
    "accuracy = result_RDD.filter(lambda e : e[4]).count() / num_testing_instance * 100\n",
    "print(f'The classification accuracy of {num_testing_instance} testing samples: {accuracy:.2f}%')"
   ]
  },
  {
   "cell_type": "markdown",
   "metadata": {},
   "source": [
    "#### Generating ROC Plot"
   ]
  },
  {
   "cell_type": "code",
   "execution_count": 41,
   "metadata": {},
   "outputs": [
    {
     "data": {
      "image/png": "[encoded data removed]",
      "text/plain": [
       "<matplotlib.figure.Figure at 0x7f43109c85f8>"
      ]
     },
     "metadata": {
      "needs_background": "light"
     },
     "output_type": "display_data"
    }
   ],
   "source": [
    "import numpy as np\n",
    "from sklearn.metrics import roc_curve, auc\n",
    "import matplotlib.pyplot as plt\n",
    "%matplotlib inline\n",
    "\n",
    "result = np.array(result_RDD.map(lambda e : list(e[:-1])).collect())\n",
    "y_test = result[:, :2].astype(np.int)\n",
    "y_score = result[:, 2:]\n",
    "\n",
    "fpr = {}\n",
    "tpr = {}\n",
    "roc_auc = {}\n",
    "for i in range(2):\n",
    "    fpr[i], tpr[i], _ = roc_curve(y_test[:, i], y_score[:, i])\n",
    "    roc_auc[i] = auc(fpr[i], tpr[i])\n",
    "\n",
    "    \n",
    "plt.figure(figsize=(12, 4))\n",
    "for i in range(2):\n",
    "    labels = ['good', 'bad']\n",
    "    plt.subplot(1,2,(i+1))\n",
    "    lw = 2\n",
    "    plt.plot(fpr[i], tpr[i], color='darkorange',\n",
    "             lw=lw, label='ROC curve (area = %0.2f)' % roc_auc[i])\n",
    "    plt.plot([0, 1], [0, 1], color='navy', lw=lw, linestyle='--')\n",
    "    plt.xlim([0.0, 1.0])\n",
    "    plt.ylim([0.0, 1.05])\n",
    "    plt.xlabel('False Positive Rate')\n",
    "    plt.ylabel('True Positive Rate')\n",
    "    plt.title(f'Receiver operating characteristic for {labels[i]} reviews')\n",
    "    plt.legend(loc=\"lower right\")\n",
    "\n",
    "plt.show()"
   ]
  },
  {
   "cell_type": "code",
   "execution_count": null,
   "metadata": {},
   "outputs": [],
   "source": []
  }
 ],
 "metadata": {
  "kernelspec": {
   "display_name": "Python 3",
   "language": "python",
   "name": "python3"
  },
  "language_info": {
   "codemirror_mode": {
    "name": "ipython",
    "version": 3
   },
   "file_extension": ".py",
   "mimetype": "text/x-python",
   "name": "python",
   "nbconvert_exporter": "python",
   "pygments_lexer": "ipython3",
   "version": "3.6.8"
  }
 },
 "nbformat": 4,
 "nbformat_minor": 2
}
